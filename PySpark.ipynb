{
 "cells": [
  {
   "cell_type": "code",
   "execution_count": null,
   "metadata": {
    "id": "DL50kK1MCq8h"
   },
   "outputs": [],
   "source": [
    "import pyspark\n",
    "from pyspark.sql import SparkSession, SQLContext\n",
    "from pyspark.sql import functions as F\n",
    "from pyspark.sql.types import DecimalType\n",
    "from pyspark.sql.functions import col, regexp_replace, trim, count, when\n",
    "from pyspark.ml.feature import VectorAssembler"
   ]
  },
  {
   "cell_type": "code",
   "execution_count": null,
   "metadata": {},
   "outputs": [],
   "source": [
    "sparkSession = SparkSession.builder.appName(\"Fahasa\").config(\"spark.mongodb.read.connection.uri\", \"mongodb://127.0.0.1/test.myCollection?readPreference=primaryPreferred\").config(\"spark.mongodb.write.connection.uri\", \"mongodb://127.0.0.1/test.myCollection\").config(\"spark.jars.packages\", \"org.mongodb.spark:mongo-spark-connector_2.12:10.4.0\").config(\"spark.jars\", \"postgresql-42.7.4.jar\").getOrCreate()"
   ]
  },
  {
   "cell_type": "code",
   "execution_count": null,
   "metadata": {},
   "outputs": [],
   "source": [
    "df = sparkSession.read.format(\"mongodb\").option(\"database\", \"Fahasa\").option(\"collection\", \"Fahasa\").load()\n",
    "df.show()"
   ]
  },
  {
   "cell_type": "code",
   "execution_count": null,
   "metadata": {
    "colab": {
     "base_uri": "https://localhost:8080/"
    },
    "id": "zF_5CxcHTYLj",
    "outputId": "7e5fbd0b-b895-490a-f78d-56c24d6e356d"
   },
   "outputs": [],
   "source": [
    "row_count = df.count()\n",
    "print(f\"Số dòng hiện tại: {row_count}\")\n",
    "\n",
    "column_count = len(df.columns)\n",
    "print(f\"Số cột hiện tại: {column_count}\")"
   ]
  },
  {
   "cell_type": "code",
   "execution_count": null,
   "metadata": {},
   "outputs": [],
   "source": [
    "df = df.withColumn(\"Status\", when(col(\"Status\") == \"Luôn có\", 1).when(col(\"Status\") == \"Hết hàng\", 0).otherwise(col(\"Status\")))\n",
    "\n",
    "df.show()"
   ]
  },
  {
   "cell_type": "code",
   "execution_count": null,
   "metadata": {},
   "outputs": [],
   "source": [
    "price_cleaning = ['Price']\n",
    "\n",
    "for column in price_cleaning:\n",
    "    df = df.withColumn(\"Price\", regexp_replace(col(\"Price\"), \" đ\", \"\"))\n",
    "\n",
    "df.show()"
   ]
  },
  {
   "cell_type": "code",
   "execution_count": null,
   "metadata": {},
   "outputs": [],
   "source": [
    "sold_cleaning = ['Sold']\n",
    "\n",
    "for column in sold_cleaning:\n",
    "    df = df.withColumn(\"Sold\", regexp_replace(col(\"Sold\"), \"Đã bán \", \"\"))\n",
    "\n",
    "df.show()"
   ]
  },
  {
   "cell_type": "code",
   "execution_count": null,
   "metadata": {},
   "outputs": [],
   "source": [
    "vote_cleaning = ['Vote']\n",
    "\n",
    "for column in ['Vote']:\n",
    "    df = df.withColumn(\"Vote\", regexp_replace(col(\"Vote\"), r\"\\(.*?\\s*đánh giá\\)\", \"\"))\n",
    "df.show()"
   ]
  },
  {
   "cell_type": "code",
   "execution_count": null,
   "metadata": {},
   "outputs": [],
   "source": [
    "rate_cleaning = ['Rate']\n",
    "\n",
    "for column in rate_cleaning:\n",
    "    df = df.withColumn(\"Rate\", regexp_replace(col(\"Rate\"), \"/5\", \"\"))\n",
    "\n",
    "df.show()"
   ]
  },
  {
   "cell_type": "code",
   "execution_count": null,
   "metadata": {},
   "outputs": [],
   "source": [
    "df = df.withColumn(\"YearPublish\", col(\"YearPublish\").cast(\"integer\"))\n",
    "df.printSchema()"
   ]
  },
  {
   "cell_type": "code",
   "execution_count": null,
   "metadata": {},
   "outputs": [],
   "source": [
    "df = df.withColumn(\"Price\", col(\"Price\").cast(\"integer\"))\n",
    "df.printSchema()"
   ]
  },
  {
   "cell_type": "code",
   "execution_count": null,
   "metadata": {},
   "outputs": [],
   "source": [
    "df = df.withColumn(\"Sold\", col(\"Sold\").cast(\"integer\"))\n",
    "df.printSchema()"
   ]
  },
  {
   "cell_type": "code",
   "execution_count": null,
   "metadata": {},
   "outputs": [],
   "source": [
    "df = df.withColumn(\"Vote\", col(\"Vote\").cast(\"integer\"))\n",
    "df.printSchema()"
   ]
  },
  {
   "cell_type": "code",
   "execution_count": null,
   "metadata": {},
   "outputs": [],
   "source": [
    "df = df.withColumn(\"Rate\", col(\"Rate\").cast(\"float\"))\n",
    "df.printSchema()"
   ]
  },
  {
   "cell_type": "code",
   "execution_count": null,
   "metadata": {},
   "outputs": [],
   "source": [
    "df = df.withColumn(\"Total\", (col(\"Price\") * col(\"Sold\")) + (col(\"Price\") * 0.1))\n",
    "df.show()"
   ]
  },
  {
   "cell_type": "code",
   "execution_count": null,
   "metadata": {},
   "outputs": [],
   "source": [
    "df = df.withColumn(\"Total\", col(\"Total\").cast(\"integer\"))\n",
    "df.printSchema()"
   ]
  },
  {
   "cell_type": "code",
   "execution_count": null,
   "metadata": {
    "colab": {
     "base_uri": "https://localhost:8080/"
    },
    "id": "_0wpr-7zxH_7",
    "outputId": "a5d7b513-4ce4-42e8-ac3e-e3b565a60981"
   },
   "outputs": [],
   "source": [
    "describe_cleaning = ['Describe']\n",
    "\n",
    "for column in describe_cleaning:\n",
    "  df = df.withColumn(column, regexp_replace(col(column), \"[^\\\\p{L}\\\\p{N}\\\\s]\", \"\"))\n",
    "  df = df.withColumn(column, regexp_replace(col(column), \"\\\\s+\", \" \"))\n",
    "  df = df.withColumn(column, trim(col(column)))\n",
    "\n",
    "df.show()"
   ]
  },
  {
   "cell_type": "code",
   "execution_count": null,
   "metadata": {
    "colab": {
     "base_uri": "https://localhost:8080/"
    },
    "id": "zjuCEGB90Ogf",
    "outputId": "8a09578e-0e61-4491-b296-051c2f58246f"
   },
   "outputs": [],
   "source": [
    "df = df.dropDuplicates([\"Link\"]).na.drop(subset=[\"Link\"])\n",
    "\n",
    "df = df.dropDuplicates([\"Title\"]).na.drop(subset=[\"Title\"])\n",
    "\n",
    "df = df.dropDuplicates([\"Code\"]).na.drop(subset=[\"Code\"])\n",
    "\n",
    "df = df.na.drop(subset=[\"Author\"])\n",
    "\n",
    "df = df.na.drop(subset=[\"Publisher\"])\n",
    "\n",
    "df = df.na.drop(subset=[\"Supplier\"])\n",
    "\n",
    "df = df.na.drop(subset=[\"Level\"])\n",
    "\n",
    "df = df.na.drop(subset=[\"Grade\"])\n",
    "\n",
    "df = df.na.drop(subset=[\"YearPublish\"])\n",
    "\n",
    "df = df.na.drop(subset=[\"Price\"])\n",
    "\n",
    "df = df.na.drop(subset=[\"Sold\"])\n",
    "\n",
    "df = df.na.drop(subset=[\"Vote\"])\n",
    "\n",
    "df = df.na.drop(subset=[\"Rate\"])\n",
    "\n",
    "df = df.na.drop(subset=[\"Status\"])\n",
    "\n",
    "df = df.na.drop(subset=[\"Describe\"])\n",
    "\n",
    "df.show()"
   ]
  },
  {
   "cell_type": "code",
   "execution_count": null,
   "metadata": {},
   "outputs": [],
   "source": [
    "df = df.withColumn(\"Sold\", when(col(\"Sold\").like(\"%k\"), regexp_replace(col(\"Sold\"), \"k\", \"\").cast(\"float\") * 1000).otherwise(col(\"Sold\").cast(\"integer\")))\n",
    "\n",
    "df.show()"
   ]
  },
  {
   "cell_type": "code",
   "execution_count": null,
   "metadata": {
    "colab": {
     "base_uri": "https://localhost:8080/"
    },
    "id": "uF5fUC_O8zy6",
    "outputId": "9431489c-1f9e-4ce7-f223-a35a947dbf63"
   },
   "outputs": [],
   "source": [
    "row_count = df.count()\n",
    "print(f\"Số dòng sau khi làm sạch dữ liệu: {row_count}\")"
   ]
  },
  {
   "cell_type": "code",
   "execution_count": null,
   "metadata": {},
   "outputs": [],
   "source": [
    "df_author = df.select(\"Author\").distinct()\n",
    "df_author = df_author.withColumn(\"AuthorID\", F.concat(F.lit(\"PA\"), F.monotonically_increasing_id()))\n",
    "\n",
    "df_author.show(truncate=False)"
   ]
  },
  {
   "cell_type": "code",
   "execution_count": null,
   "metadata": {
    "colab": {
     "base_uri": "https://localhost:8080/"
    },
    "id": "Tx9IkiK0AiVZ",
    "outputId": "185f8c31-c61b-46d5-a640-bfcffaa57646"
   },
   "outputs": [],
   "source": [
    "df_publisher = df.select(\"Publisher\").distinct()\n",
    "df_publisher = df_publisher.withColumn(\"PublisherID\", F.concat(F.lit(\"PP\"), F.monotonically_increasing_id()))\n",
    "\n",
    "df_publisher.show(truncate=False)"
   ]
  },
  {
   "cell_type": "code",
   "execution_count": null,
   "metadata": {},
   "outputs": [],
   "source": [
    "df_supplier = df.select(\"Supplier\").distinct()\n",
    "df_supplier = df_supplier.withColumn(\"SupplierID\", F.concat(F.lit(\"PS\"), F.monotonically_increasing_id()))\n",
    "\n",
    "df_supplier.show(truncate=False)"
   ]
  },
  {
   "cell_type": "code",
   "execution_count": null,
   "metadata": {},
   "outputs": [],
   "source": [
    "df_Level = df.select(\"Level\").distinct()\n",
    "df_Level = df_Level.withColumn(\"LevelID\", F.concat(F.lit(\"PT\"), F.monotonically_increasing_id()))\n",
    "\n",
    "df_Level.show(truncate=False)"
   ]
  },
  {
   "cell_type": "code",
   "execution_count": null,
   "metadata": {},
   "outputs": [],
   "source": [
    "df_Grade = df.select(\"Grade\").distinct()\n",
    "df_Grade = df_Grade.withColumn(\"GradeID\", F.concat(F.lit(\"PG\"), F.monotonically_increasing_id()))\n",
    "\n",
    "df_Grade.show(truncate=False)"
   ]
  },
  {
   "cell_type": "code",
   "execution_count": null,
   "metadata": {
    "colab": {
     "base_uri": "https://localhost:8080/"
    },
    "id": "8E27uvLKbgKP",
    "outputId": "638e7ee1-3df7-4eb5-de58-1bb74c7770bc"
   },
   "outputs": [],
   "source": [
    "df = df.drop(\"Link\")\n",
    "df.show()"
   ]
  },
  {
   "cell_type": "code",
   "execution_count": null,
   "metadata": {
    "colab": {
     "base_uri": "https://localhost:8080/"
    },
    "id": "ig6kwFQPa9Xa",
    "outputId": "a5baa348-add1-42b6-8061-330b6ecef4bb"
   },
   "outputs": [],
   "source": [
    "book_columns = [\"Title\", \"Code\", \"AuthorID\", \"PublisherID\", \"SupplierID\", \"LevelID\", \"GradeID\", \"YearPublish\", \"Price\", \"Sold\", \"Vote\", \"Rate\", \"Status\", \"Total\"]\n",
    "\n",
    "df_product = df.join(df_author, \"Author\").select(\n",
    "    \"Title\", \"Code\", \"AuthorID\", \"Publisher\", \"Supplier\", \"Level\", \"Grade\", \"YearPublish\", \"Price\", \"Sold\", \"Vote\", \"Rate\", \"Status\", \"Total\"\n",
    ")\n",
    "\n",
    "df_product = df_product.join(df_publisher, \"Publisher\").select(\n",
    "    \"Title\", \"Code\", \"AuthorID\", \"PublisherID\", \"Supplier\", \"Level\", \"Grade\", \"YearPublish\", \"Price\", \"Sold\", \"Vote\", \"Rate\", \"Status\", \"Total\"\n",
    ")\n",
    "\n",
    "df_product = df_product.join(df_supplier, \"Supplier\").select(\n",
    "    \"Title\", \"Code\", \"AuthorID\", \"PublisherID\", \"SupplierID\", \"Level\", \"Grade\", \"YearPublish\", \"Price\", \"Sold\", \"Vote\", \"Rate\", \"Status\", \"Total\"\n",
    ")\n",
    "\n",
    "df_product = df_product.join(df_Level, \"Level\").select(\n",
    "    \"Title\", \"Code\", \"AuthorID\", \"PublisherID\", \"SupplierID\", \"LevelID\", \"Grade\", \"YearPublish\", \"Price\", \"Sold\", \"Vote\", \"Rate\", \"Status\", \"Total\"\n",
    ")\n",
    "\n",
    "df_product = df_product.join(df_Grade, \"Grade\").select(\n",
    "    \"Title\", \"Code\", \"AuthorID\", \"PublisherID\", \"SupplierID\", \"LevelID\", \"GradeID\", \"YearPublish\", \"Price\", \"Sold\", \"Vote\", \"Rate\", \"Status\", \"Total\"\n",
    ")\n",
    "\n",
    "df_product = df_product.withColumn(\"BookID\", F.concat(F.lit(\"PB\"), F.monotonically_increasing_id()))\n",
    "\n",
    "df_product = df_product.select(\"BookID\", *df_product.columns[:-1])\n",
    "\n",
    "df_product.show()"
   ]
  },
  {
   "cell_type": "code",
   "execution_count": null,
   "metadata": {
    "colab": {
     "base_uri": "https://localhost:8080/"
    },
    "id": "12ApIWQdfQ62",
    "outputId": "35c7bafb-d749-46e0-8e1c-c34250a9f3a1"
   },
   "outputs": [],
   "source": [
    "df_book = df_product.join(df_author, \"AuthorID\").join(df_publisher, \"PublisherID\").join(df_supplier, \"SupplierID\").join(df_Level, \"LevelID\").join(df_Grade, \"GradeID\")\n",
    "\n",
    "df_book.show()"
   ]
  },
  {
   "cell_type": "markdown",
   "metadata": {},
   "source": [
    "### PostgreSQL"
   ]
  },
  {
   "cell_type": "markdown",
   "metadata": {},
   "source": [
    "Thêm username, password"
   ]
  },
  {
   "cell_type": "code",
   "execution_count": null,
   "metadata": {},
   "outputs": [],
   "source": [
    "table = \"Author\"\n",
    "servername = \"localhost\"\n",
    "port = 5432\n",
    "dbname = \"Fahasa\"\n",
    "username = \"fahasa\"\n",
    "password = \"fahasa\"\n",
    "\n",
    "Link = f\"jdbc:postgresql://{servername}:{port}/{dbname}\"\n",
    "\n",
    "df_author.write.format(\"jdbc\").option(\"Link\", Link).option(\"dbtable\", table).option(\"user\", username).option(\"password\", password).option(\"driver\", \"org.postgresql.Driver\").mode(\"overwrite\").save()"
   ]
  },
  {
   "cell_type": "code",
   "execution_count": null,
   "metadata": {},
   "outputs": [],
   "source": [
    "table = \"Publisher\"\n",
    "servername = \"localhost\"\n",
    "port = 5432\n",
    "dbname = \"Fahasa\"\n",
    "username = \"fahasa\"\n",
    "password = \"fahasa\"\n",
    "\n",
    "Link = f\"jdbc:postgresql://{servername}:{port}/{dbname}\"\n",
    "\n",
    "df_publisher.write.format(\"jdbc\").option(\"Link\", Link).option(\"dbtable\", table).option(\"user\", username).option(\"password\", password).option(\"driver\", \"org.postgresql.Driver\").mode(\"overwrite\").save()"
   ]
  },
  {
   "cell_type": "code",
   "execution_count": null,
   "metadata": {},
   "outputs": [],
   "source": [
    "table = \"Supplier\"\n",
    "servername = \"localhost\"\n",
    "port = 5432\n",
    "dbname = \"Fahasa\"\n",
    "username = \"fahasa\"\n",
    "password = \"fahasa\"\n",
    "\n",
    "Link = f\"jdbc:postgresql://{servername}:{port}/{dbname}\"\n",
    "\n",
    "df_supplier.write.format(\"jdbc\").option(\"Link\", Link).option(\"dbtable\", table).option(\"user\", username).option(\"password\", password).option(\"driver\", \"org.postgresql.Driver\").mode(\"overwrite\").save()"
   ]
  },
  {
   "cell_type": "code",
   "execution_count": null,
   "metadata": {},
   "outputs": [],
   "source": [
    "table = \"Level\"\n",
    "servername = \"localhost\"\n",
    "port = 5432\n",
    "dbname = \"Fahasa\"\n",
    "username = \"fahasa\"\n",
    "password = \"fahasa\"\n",
    "\n",
    "Link = f\"jdbc:postgresql://{servername}:{port}/{dbname}\"\n",
    "\n",
    "df_Level.write.format(\"jdbc\").option(\"Link\", Link).option(\"dbtable\", table).option(\"user\", username).option(\"password\", password).option(\"driver\", \"org.postgresql.Driver\").mode(\"overwrite\").save()"
   ]
  },
  {
   "cell_type": "code",
   "execution_count": null,
   "metadata": {},
   "outputs": [],
   "source": [
    "table = \"Grade\"\n",
    "servername = \"localhost\"\n",
    "port = 5432\n",
    "dbname = \"Fahasa\"\n",
    "username = \"fahasa\"\n",
    "password = \"fahasa\"\n",
    "\n",
    "Link = f\"jdbc:postgresql://{servername}:{port}/{dbname}\"\n",
    "\n",
    "df_Grade.write.format(\"jdbc\").option(\"Link\", Link).option(\"dbtable\", table).option(\"user\", username).option(\"password\", password).option(\"driver\", \"org.postgresql.Driver\").mode(\"overwrite\").save()"
   ]
  },
  {
   "cell_type": "code",
   "execution_count": null,
   "metadata": {},
   "outputs": [],
   "source": [
    "table = \"Book\"\n",
    "servername = \"localhost\"\n",
    "port = 5432\n",
    "dbname = \"Fahasa\"\n",
    "username = \"fahasa\"\n",
    "password = \"fahasa\"\n",
    "\n",
    "Link = f\"jdbc:postgresql://{servername}:{port}/{dbname}\"\n",
    "\n",
    "df_book.write.format(\"jdbc\").option(\"Link\", Link).option(\"dbtable\", table).option(\"user\", username).option(\"password\", password).option(\"driver\", \"org.postgresql.Driver\").mode(\"overwrite\").save()"
   ]
  },
  {
   "cell_type": "markdown",
   "metadata": {},
   "source": [
    "### Microsoft SQL"
   ]
  },
  {
   "cell_type": "markdown",
   "metadata": {},
   "source": [
    "Thêm servername, user, password"
   ]
  },
  {
   "cell_type": "code",
   "execution_count": null,
   "metadata": {},
   "outputs": [],
   "source": [
    "connector = \"com.microsoft.sqlserver.jdbc.spark\"\n",
    "username = \"sa\"\n",
    "password = \"\"\n",
    "dbname = \"Fahasa\"\n",
    "servername = \"localhost\"\n",
    "table = \"dbo.Author\"\n",
    "\n",
    "Link = f\"jdbc:sqlserver://{servername};databaseName={dbname}\"\n",
    "\n",
    "\n",
    "df_author.write.format(\"com.microsoft.sqlserver.jdbc.spark\").option(\"Link\", Link).option(\"dbtable\", table).option(\"user\", username).option(\"password\", password).mode(\"overwrite\").save()"
   ]
  },
  {
   "cell_type": "code",
   "execution_count": null,
   "metadata": {},
   "outputs": [],
   "source": [
    "connector = \"com.microsoft.sqlserver.jdbc.spark\"\n",
    "username = \"sa\"\n",
    "password = \"\"\n",
    "dbname = \"Fahasa\"\n",
    "servername = \"localhost\"\n",
    "table = \"dbo.Publisher\"\n",
    "\n",
    "Link = f\"jdbc:sqlserver://{servername};databaseName={dbname}\"\n",
    "\n",
    "\n",
    "df_publisher.write.format(\"com.microsoft.sqlserver.jdbc.spark\").option(\"Link\", Link).option(\"dbtable\", table).option(\"user\", username).option(\"password\", password).mode(\"overwrite\").save()"
   ]
  },
  {
   "cell_type": "code",
   "execution_count": null,
   "metadata": {},
   "outputs": [],
   "source": [
    "connector = \"com.microsoft.sqlserver.jdbc.spark\"\n",
    "username = \"sa\"\n",
    "password = \"\"\n",
    "dbname = \"Fahasa\"\n",
    "servername = \"localhost\"\n",
    "table = \"dbo.Supplier\"\n",
    "\n",
    "Link = f\"jdbc:sqlserver://{servername};databaseName={dbname}\"\n",
    "\n",
    "\n",
    "df_supplier.write.format(\"com.microsoft.sqlserver.jdbc.spark\").option(\"Link\", Link).option(\"dbtable\", table).option(\"user\", username).option(\"password\", password).mode(\"overwrite\").save()"
   ]
  },
  {
   "cell_type": "code",
   "execution_count": null,
   "metadata": {},
   "outputs": [],
   "source": [
    "connector = \"com.microsoft.sqlserver.jdbc.spark\"\n",
    "username = \"sa\"\n",
    "password = \"\"\n",
    "dbname = \"Fahasa\"\n",
    "servername = \"localhost\"\n",
    "table = \"dbo.Level\"\n",
    "\n",
    "Link = f\"jdbc:sqlserver://{servername};databaseName={dbname}\"\n",
    "\n",
    "\n",
    "df_Level.write.format(\"com.microsoft.sqlserver.jdbc.spark\").option(\"Link\", Link).option(\"dbtable\", table).option(\"user\", username).option(\"password\", password).mode(\"overwrite\").save()"
   ]
  },
  {
   "cell_type": "code",
   "execution_count": null,
   "metadata": {},
   "outputs": [],
   "source": [
    "connector = \"com.microsoft.sqlserver.jdbc.spark\"\n",
    "username = \"sa\"\n",
    "password = \"\"\n",
    "dbname = \"Fahasa\"\n",
    "servername = \"localhost\"\n",
    "table = \"dbo.Grade\"\n",
    "\n",
    "Link = f\"jdbc:sqlserver://{servername};databaseName={dbname}\"\n",
    "\n",
    "\n",
    "df_Grade.write.format(\"com.microsoft.sqlserver.jdbc.spark\").option(\"Link\", Link).option(\"dbtable\", table).option(\"user\", username).option(\"password\", password).mode(\"overwrite\").save()"
   ]
  },
  {
   "cell_type": "code",
   "execution_count": null,
   "metadata": {},
   "outputs": [],
   "source": [
    "connector = \"com.microsoft.sqlserver.jdbc.spark\"\n",
    "username = \"sa\"\n",
    "password = \"\"\n",
    "dbname = \"Fahasa\"\n",
    "servername = \"localhost\"\n",
    "table = \"dbo.Book\"\n",
    "\n",
    "Link = f\"jdbc:sqlserver://{servername};databaseName={dbname}\"\n",
    "\n",
    "\n",
    "df_book.write.format(\"com.microsoft.sqlserver.jdbc.spark\").option(\"Link\", Link).option(\"dbtable\", table).option(\"user\", username).option(\"password\", password).mode(\"overwrite\").save()"
   ]
  }
 ],
 "metadata": {
  "colab": {
   "provenance": []
  },
  "kernelspec": {
   "display_name": "Python 3",
   "language": "python",
   "name": "python3"
  },
  "language_info": {
   "codemirror_mode": {
    "name": "ipython",
    "version": 3
   },
   "file_extension": ".py",
   "mimetype": "text/x-python",
   "name": "python",
   "nbconvert_exporter": "python",
   "pygments_lexer": "ipython3",
   "version": "3.13.0"
  }
 },
 "nbformat": 4,
 "nbformat_minor": 0
}
